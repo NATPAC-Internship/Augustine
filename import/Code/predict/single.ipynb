{
 "cells": [
  {
   "cell_type": "code",
   "execution_count": 5,
   "metadata": {},
   "outputs": [
    {
     "name": "stdout",
     "output_type": "stream",
     "text": [
      "Predicted 'QTY.(KGS)' for January 1st, 2022: 1703409.199999988\n"
     ]
    }
   ],
   "source": [
    "from sklearn.linear_model import LinearRegression\n",
    "\n",
    "# Data\n",
    "years = [2018, 2019, 2020, 2021,2022]\n",
    "quantities = [337485, 686993, 1284272, 1244317,1285112]  # 'QTY.(KGS)' for January 1st of each year\n",
    "\n",
    "# Reshape the data for Linear Regression\n",
    "X = [[year] for year in years]\n",
    "\n",
    "# Create and train the model\n",
    "model = LinearRegression()\n",
    "model.fit(X, quantities)\n",
    "\n",
    "# Predict 'QTY.(KGS)' for January 1st, 2023\n",
    "predicted_qty_2023 = model.predict([[2023]])\n",
    "\n",
    "print(\"Predicted 'QTY.(KGS)' for January 1st, 2022:\", predicted_qty_2023[0])\n"
   ]
  }
 ],
 "metadata": {
  "kernelspec": {
   "display_name": "Python 3",
   "language": "python",
   "name": "python3"
  },
  "language_info": {
   "codemirror_mode": {
    "name": "ipython",
    "version": 3
   },
   "file_extension": ".py",
   "mimetype": "text/x-python",
   "name": "python",
   "nbconvert_exporter": "python",
   "pygments_lexer": "ipython3",
   "version": "3.11.5"
  }
 },
 "nbformat": 4,
 "nbformat_minor": 2
}
