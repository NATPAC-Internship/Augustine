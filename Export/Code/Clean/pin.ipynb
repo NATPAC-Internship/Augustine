{
 "cells": [
  {
   "cell_type": "code",
   "execution_count": 12,
   "metadata": {},
   "outputs": [],
   "source": [
    "import pandas as pd\n",
    "import numpy as nb"
   ]
  },
  {
   "cell_type": "code",
   "execution_count": 13,
   "metadata": {},
   "outputs": [],
   "source": [
    "df = pd.read_csv(r'C:\\Users\\augus\\OneDrive\\Desktop\\js\\Cargo predict\\Export\\Dataset\\selected_exporters.csv')"
   ]
  },
  {
   "cell_type": "code",
   "execution_count": 14,
   "metadata": {},
   "outputs": [
    {
     "data": {
      "text/html": [
       "<div>\n",
       "<style scoped>\n",
       "    .dataframe tbody tr th:only-of-type {\n",
       "        vertical-align: middle;\n",
       "    }\n",
       "\n",
       "    .dataframe tbody tr th {\n",
       "        vertical-align: top;\n",
       "    }\n",
       "\n",
       "    .dataframe thead th {\n",
       "        text-align: right;\n",
       "    }\n",
       "</style>\n",
       "<table border=\"1\" class=\"dataframe\">\n",
       "  <thead>\n",
       "    <tr style=\"text-align: right;\">\n",
       "      <th></th>\n",
       "      <th>Exporter Name</th>\n",
       "      <th>Address</th>\n",
       "      <th>District</th>\n",
       "      <th>State</th>\n",
       "    </tr>\n",
       "  </thead>\n",
       "  <tbody>\n",
       "    <tr>\n",
       "      <th>0</th>\n",
       "      <td>5P HORTIPLEX</td>\n",
       "      <td>19, 2nd St, Balamurugan Nagar, Anna Nagar Exte...</td>\n",
       "      <td>NaN</td>\n",
       "      <td>Tamil Nadu</td>\n",
       "    </tr>\n",
       "    <tr>\n",
       "      <th>1</th>\n",
       "      <td>A.A.NUTS</td>\n",
       "      <td>WJMW+7F7, Chandanathope, Mamoodu, Kerala 14, I...</td>\n",
       "      <td>NaN</td>\n",
       "      <td>Kerala</td>\n",
       "    </tr>\n",
       "    <tr>\n",
       "      <th>2</th>\n",
       "      <td>A.K. AHAMED MODERAN RICE MILL</td>\n",
       "      <td>P.O, 40/2, Mannarpalayam Main Rd, Allikuttai, ...</td>\n",
       "      <td>NaN</td>\n",
       "      <td>Tamil Nadu</td>\n",
       "    </tr>\n",
       "    <tr>\n",
       "      <th>3</th>\n",
       "      <td>A.K.R. TEXTILES</td>\n",
       "      <td>48W5+XQ9, Velampalayam, A.Thirumuruganpoondi, ...</td>\n",
       "      <td>NaN</td>\n",
       "      <td>Tamil Nadu</td>\n",
       "    </tr>\n",
       "    <tr>\n",
       "      <th>4</th>\n",
       "      <td>A.M.FISHERIES</td>\n",
       "      <td>98WW+WWQ, Valanjavazhy, Ambalapuzha, Kerala 68...</td>\n",
       "      <td>NaN</td>\n",
       "      <td>Kerala</td>\n",
       "    </tr>\n",
       "    <tr>\n",
       "      <th>...</th>\n",
       "      <td>...</td>\n",
       "      <td>...</td>\n",
       "      <td>...</td>\n",
       "      <td>...</td>\n",
       "    </tr>\n",
       "    <tr>\n",
       "      <th>2768</th>\n",
       "      <td>WAYANAD ORGANIC RESEARCH P LTD</td>\n",
       "      <td>Wayanad, Kerala, India</td>\n",
       "      <td>NaN</td>\n",
       "      <td>Kerala</td>\n",
       "    </tr>\n",
       "    <tr>\n",
       "      <th>2769</th>\n",
       "      <td>WAYANAD SPICE VILLAGE</td>\n",
       "      <td>Surabhikavala, Pulpally, Kerala 673579, India</td>\n",
       "      <td>NaN</td>\n",
       "      <td>Kerala</td>\n",
       "    </tr>\n",
       "    <tr>\n",
       "      <th>2770</th>\n",
       "      <td>YUGA DEMETER EXIM</td>\n",
       "      <td>4 335 2.p.a.p Canal Feeder Road Munnar, Main R...</td>\n",
       "      <td>NaN</td>\n",
       "      <td>Tamil Nadu</td>\n",
       "    </tr>\n",
       "    <tr>\n",
       "      <th>2771</th>\n",
       "      <td>ZAIN TEX</td>\n",
       "      <td>24, Sivanar Street, Sendarapatti, Gugai, Salem...</td>\n",
       "      <td>NaN</td>\n",
       "      <td>Tamil Nadu</td>\n",
       "    </tr>\n",
       "    <tr>\n",
       "      <th>2772</th>\n",
       "      <td>ZULI EXPORTS</td>\n",
       "      <td>near GLPS Nottappuram, C Building, 12- 281, Pu...</td>\n",
       "      <td>NaN</td>\n",
       "      <td>Kerala</td>\n",
       "    </tr>\n",
       "  </tbody>\n",
       "</table>\n",
       "<p>2773 rows × 4 columns</p>\n",
       "</div>"
      ],
      "text/plain": [
       "                       Exporter Name  \\\n",
       "0                       5P HORTIPLEX   \n",
       "1                           A.A.NUTS   \n",
       "2      A.K. AHAMED MODERAN RICE MILL   \n",
       "3                    A.K.R. TEXTILES   \n",
       "4                      A.M.FISHERIES   \n",
       "...                              ...   \n",
       "2768  WAYANAD ORGANIC RESEARCH P LTD   \n",
       "2769           WAYANAD SPICE VILLAGE   \n",
       "2770               YUGA DEMETER EXIM   \n",
       "2771                        ZAIN TEX   \n",
       "2772                    ZULI EXPORTS   \n",
       "\n",
       "                                                Address District       State  \n",
       "0     19, 2nd St, Balamurugan Nagar, Anna Nagar Exte...      NaN  Tamil Nadu  \n",
       "1     WJMW+7F7, Chandanathope, Mamoodu, Kerala 14, I...      NaN      Kerala  \n",
       "2     P.O, 40/2, Mannarpalayam Main Rd, Allikuttai, ...      NaN  Tamil Nadu  \n",
       "3     48W5+XQ9, Velampalayam, A.Thirumuruganpoondi, ...      NaN  Tamil Nadu  \n",
       "4     98WW+WWQ, Valanjavazhy, Ambalapuzha, Kerala 68...      NaN      Kerala  \n",
       "...                                                 ...      ...         ...  \n",
       "2768                             Wayanad, Kerala, India      NaN      Kerala  \n",
       "2769      Surabhikavala, Pulpally, Kerala 673579, India      NaN      Kerala  \n",
       "2770  4 335 2.p.a.p Canal Feeder Road Munnar, Main R...      NaN  Tamil Nadu  \n",
       "2771  24, Sivanar Street, Sendarapatti, Gugai, Salem...      NaN  Tamil Nadu  \n",
       "2772  near GLPS Nottappuram, C Building, 12- 281, Pu...      NaN      Kerala  \n",
       "\n",
       "[2773 rows x 4 columns]"
      ]
     },
     "execution_count": 14,
     "metadata": {},
     "output_type": "execute_result"
    }
   ],
   "source": [
    "df"
   ]
  },
  {
   "cell_type": "code",
   "execution_count": 18,
   "metadata": {},
   "outputs": [
    {
     "name": "stdout",
     "output_type": "stream",
     "text": [
      "                       Exporter Name  \\\n",
      "0                       5P HORTIPLEX   \n",
      "1                           A.A.NUTS   \n",
      "2      A.K. AHAMED MODERAN RICE MILL   \n",
      "3                    A.K.R. TEXTILES   \n",
      "4                      A.M.FISHERIES   \n",
      "...                              ...   \n",
      "2768  WAYANAD ORGANIC RESEARCH P LTD   \n",
      "2769           WAYANAD SPICE VILLAGE   \n",
      "2770               YUGA DEMETER EXIM   \n",
      "2771                        ZAIN TEX   \n",
      "2772                    ZULI EXPORTS   \n",
      "\n",
      "                                                Address District       State  \\\n",
      "0     19, 2nd St, Balamurugan Nagar, Anna Nagar Exte...      NaN  Tamil Nadu   \n",
      "1     WJMW+7F7, Chandanathope, Mamoodu, Kerala 14, I...      NaN      Kerala   \n",
      "2     P.O, 40/2, Mannarpalayam Main Rd, Allikuttai, ...      NaN  Tamil Nadu   \n",
      "3     48W5+XQ9, Velampalayam, A.Thirumuruganpoondi, ...      NaN  Tamil Nadu   \n",
      "4     98WW+WWQ, Valanjavazhy, Ambalapuzha, Kerala 68...      NaN      Kerala   \n",
      "...                                                 ...      ...         ...   \n",
      "2768                             Wayanad, Kerala, India      NaN      Kerala   \n",
      "2769      Surabhikavala, Pulpally, Kerala 673579, India      NaN      Kerala   \n",
      "2770  4 335 2.p.a.p Canal Feeder Road Munnar, Main R...      NaN  Tamil Nadu   \n",
      "2771  24, Sivanar Street, Sendarapatti, Gugai, Salem...      NaN  Tamil Nadu   \n",
      "2772  near GLPS Nottappuram, C Building, 12- 281, Pu...      NaN      Kerala   \n",
      "\n",
      "         pin  \n",
      "0     600042  \n",
      "1       None  \n",
      "2     636017  \n",
      "3     641652  \n",
      "4     688005  \n",
      "...      ...  \n",
      "2768    None  \n",
      "2769  673579  \n",
      "2770  642112  \n",
      "2771  636006  \n",
      "2772  676304  \n",
      "\n",
      "[2773 rows x 5 columns]\n"
     ]
    }
   ],
   "source": [
    "import pandas as pd\n",
    "import re\n",
    "\n",
    "\n",
    "\n",
    "# Function to extract six-digit pin code starting with 6 from address\n",
    "def extract_pin(address):\n",
    "    # Using regular expression to find six-digit pin code starting with 6\n",
    "    pin_match = re.search(r'6\\d{5}', address)\n",
    "    if pin_match:\n",
    "        return pin_match.group()\n",
    "    else:\n",
    "        return None  # Return None if pin code not found\n",
    "\n",
    "# Apply the extract_pin function to the \"Address\" column and create a new column \"pin\"\n",
    "df['pin'] = df['Address'].apply(extract_pin)\n",
    "\n",
    "# Save the updated DataFrame to a new CSV file named \"updated_file.csv\"\n",
    "df.to_csv(r'C:\\Users\\augus\\OneDrive\\Desktop\\js\\Cargo predict\\Export\\Code\\Clean\\updated_file.csv', index=False)\n",
    "\n",
    "# Display the DataFrame to check the result\n",
    "print(df)\n"
   ]
  },
  {
   "cell_type": "code",
   "execution_count": 11,
   "metadata": {},
   "outputs": [],
   "source": [
    "df.to_csv('updated_file.csv', index=False)"
   ]
  },
  {
   "cell_type": "code",
   "execution_count": 19,
   "metadata": {},
   "outputs": [
    {
     "data": {
      "text/html": [
       "<div>\n",
       "<style scoped>\n",
       "    .dataframe tbody tr th:only-of-type {\n",
       "        vertical-align: middle;\n",
       "    }\n",
       "\n",
       "    .dataframe tbody tr th {\n",
       "        vertical-align: top;\n",
       "    }\n",
       "\n",
       "    .dataframe thead th {\n",
       "        text-align: right;\n",
       "    }\n",
       "</style>\n",
       "<table border=\"1\" class=\"dataframe\">\n",
       "  <thead>\n",
       "    <tr style=\"text-align: right;\">\n",
       "      <th></th>\n",
       "      <th>Exporter Name</th>\n",
       "      <th>Address</th>\n",
       "      <th>District</th>\n",
       "      <th>State</th>\n",
       "      <th>pin</th>\n",
       "    </tr>\n",
       "  </thead>\n",
       "  <tbody>\n",
       "    <tr>\n",
       "      <th>0</th>\n",
       "      <td>5P HORTIPLEX</td>\n",
       "      <td>19, 2nd St, Balamurugan Nagar, Anna Nagar Exte...</td>\n",
       "      <td>NaN</td>\n",
       "      <td>Tamil Nadu</td>\n",
       "      <td>600042.0</td>\n",
       "    </tr>\n",
       "    <tr>\n",
       "      <th>1</th>\n",
       "      <td>A.A.NUTS</td>\n",
       "      <td>WJMW+7F7, Chandanathope, Mamoodu, Kerala 14, I...</td>\n",
       "      <td>NaN</td>\n",
       "      <td>Kerala</td>\n",
       "      <td>NaN</td>\n",
       "    </tr>\n",
       "    <tr>\n",
       "      <th>2</th>\n",
       "      <td>A.K. AHAMED MODERAN RICE MILL</td>\n",
       "      <td>P.O, 40/2, Mannarpalayam Main Rd, Allikuttai, ...</td>\n",
       "      <td>NaN</td>\n",
       "      <td>Tamil Nadu</td>\n",
       "      <td>636017.0</td>\n",
       "    </tr>\n",
       "    <tr>\n",
       "      <th>3</th>\n",
       "      <td>A.K.R. TEXTILES</td>\n",
       "      <td>48W5+XQ9, Velampalayam, A.Thirumuruganpoondi, ...</td>\n",
       "      <td>NaN</td>\n",
       "      <td>Tamil Nadu</td>\n",
       "      <td>641652.0</td>\n",
       "    </tr>\n",
       "    <tr>\n",
       "      <th>4</th>\n",
       "      <td>A.M.FISHERIES</td>\n",
       "      <td>98WW+WWQ, Valanjavazhy, Ambalapuzha, Kerala 68...</td>\n",
       "      <td>NaN</td>\n",
       "      <td>Kerala</td>\n",
       "      <td>688005.0</td>\n",
       "    </tr>\n",
       "    <tr>\n",
       "      <th>...</th>\n",
       "      <td>...</td>\n",
       "      <td>...</td>\n",
       "      <td>...</td>\n",
       "      <td>...</td>\n",
       "      <td>...</td>\n",
       "    </tr>\n",
       "    <tr>\n",
       "      <th>2768</th>\n",
       "      <td>WAYANAD ORGANIC RESEARCH P LTD</td>\n",
       "      <td>Wayanad, Kerala, India</td>\n",
       "      <td>NaN</td>\n",
       "      <td>Kerala</td>\n",
       "      <td>NaN</td>\n",
       "    </tr>\n",
       "    <tr>\n",
       "      <th>2769</th>\n",
       "      <td>WAYANAD SPICE VILLAGE</td>\n",
       "      <td>Surabhikavala, Pulpally, Kerala 673579, India</td>\n",
       "      <td>NaN</td>\n",
       "      <td>Kerala</td>\n",
       "      <td>673579.0</td>\n",
       "    </tr>\n",
       "    <tr>\n",
       "      <th>2770</th>\n",
       "      <td>YUGA DEMETER EXIM</td>\n",
       "      <td>4 335 2.p.a.p Canal Feeder Road Munnar, Main R...</td>\n",
       "      <td>NaN</td>\n",
       "      <td>Tamil Nadu</td>\n",
       "      <td>642112.0</td>\n",
       "    </tr>\n",
       "    <tr>\n",
       "      <th>2771</th>\n",
       "      <td>ZAIN TEX</td>\n",
       "      <td>24, Sivanar Street, Sendarapatti, Gugai, Salem...</td>\n",
       "      <td>NaN</td>\n",
       "      <td>Tamil Nadu</td>\n",
       "      <td>636006.0</td>\n",
       "    </tr>\n",
       "    <tr>\n",
       "      <th>2772</th>\n",
       "      <td>ZULI EXPORTS</td>\n",
       "      <td>near GLPS Nottappuram, C Building, 12- 281, Pu...</td>\n",
       "      <td>NaN</td>\n",
       "      <td>Kerala</td>\n",
       "      <td>676304.0</td>\n",
       "    </tr>\n",
       "  </tbody>\n",
       "</table>\n",
       "<p>2773 rows × 5 columns</p>\n",
       "</div>"
      ],
      "text/plain": [
       "                       Exporter Name  \\\n",
       "0                       5P HORTIPLEX   \n",
       "1                           A.A.NUTS   \n",
       "2      A.K. AHAMED MODERAN RICE MILL   \n",
       "3                    A.K.R. TEXTILES   \n",
       "4                      A.M.FISHERIES   \n",
       "...                              ...   \n",
       "2768  WAYANAD ORGANIC RESEARCH P LTD   \n",
       "2769           WAYANAD SPICE VILLAGE   \n",
       "2770               YUGA DEMETER EXIM   \n",
       "2771                        ZAIN TEX   \n",
       "2772                    ZULI EXPORTS   \n",
       "\n",
       "                                                Address District       State  \\\n",
       "0     19, 2nd St, Balamurugan Nagar, Anna Nagar Exte...      NaN  Tamil Nadu   \n",
       "1     WJMW+7F7, Chandanathope, Mamoodu, Kerala 14, I...      NaN      Kerala   \n",
       "2     P.O, 40/2, Mannarpalayam Main Rd, Allikuttai, ...      NaN  Tamil Nadu   \n",
       "3     48W5+XQ9, Velampalayam, A.Thirumuruganpoondi, ...      NaN  Tamil Nadu   \n",
       "4     98WW+WWQ, Valanjavazhy, Ambalapuzha, Kerala 68...      NaN      Kerala   \n",
       "...                                                 ...      ...         ...   \n",
       "2768                             Wayanad, Kerala, India      NaN      Kerala   \n",
       "2769      Surabhikavala, Pulpally, Kerala 673579, India      NaN      Kerala   \n",
       "2770  4 335 2.p.a.p Canal Feeder Road Munnar, Main R...      NaN  Tamil Nadu   \n",
       "2771  24, Sivanar Street, Sendarapatti, Gugai, Salem...      NaN  Tamil Nadu   \n",
       "2772  near GLPS Nottappuram, C Building, 12- 281, Pu...      NaN      Kerala   \n",
       "\n",
       "           pin  \n",
       "0     600042.0  \n",
       "1          NaN  \n",
       "2     636017.0  \n",
       "3     641652.0  \n",
       "4     688005.0  \n",
       "...        ...  \n",
       "2768       NaN  \n",
       "2769  673579.0  \n",
       "2770  642112.0  \n",
       "2771  636006.0  \n",
       "2772  676304.0  \n",
       "\n",
       "[2773 rows x 5 columns]"
      ]
     },
     "execution_count": 19,
     "metadata": {},
     "output_type": "execute_result"
    }
   ],
   "source": [
    "daa = pd.read_csv(r'C:\\Users\\augus\\OneDrive\\Desktop\\js\\Cargo predict\\Export\\Code\\Clean\\updated_file.csv')\n",
    "daa"
   ]
  },
  {
   "cell_type": "code",
   "execution_count": 20,
   "metadata": {},
   "outputs": [
    {
     "name": "stdout",
     "output_type": "stream",
     "text": [
      "Number of empty rows in 'pin' column: 115\n"
     ]
    }
   ],
   "source": [
    "\n",
    "\n",
    "# Count the number of empty rows in the 'pin' column\n",
    "empty_pin_count = df['pin'].isna().sum()\n",
    "\n",
    "print(f\"Number of empty rows in 'pin' column: {empty_pin_count}\")\n"
   ]
  },
  {
   "cell_type": "code",
   "execution_count": 21,
   "metadata": {},
   "outputs": [
    {
     "name": "stdout",
     "output_type": "stream",
     "text": [
      "Mode in 'pin' column: 641603\n"
     ]
    }
   ],
   "source": [
    "\n",
    "\n",
    "# Find the mode (most frequent pin code) in the 'pin' column\n",
    "pin_mode = df['pin'].mode()\n",
    "\n",
    "print(f\"Mode in 'pin' column: {pin_mode.values[0]}\")\n"
   ]
  },
  {
   "cell_type": "code",
   "execution_count": 22,
   "metadata": {},
   "outputs": [
    {
     "name": "stdout",
     "output_type": "stream",
     "text": [
      "Number of occurrences of '641603' in 'pin' column: 109\n"
     ]
    }
   ],
   "source": [
    "\n",
    "\n",
    "# Count the occurrences of each unique value in the 'pin' column\n",
    "pin_counts = df['pin'].value_counts()\n",
    "\n",
    "# Check how many times '641603' appears in the 'pin' column\n",
    "count_641603 = pin_counts.get('641603', 0)  # Using .get() to handle the case where '641603' is not found\n",
    "\n",
    "print(f\"Number of occurrences of '641603' in 'pin' column: {count_641603}\")\n"
   ]
  },
  {
   "cell_type": "code",
   "execution_count": 26,
   "metadata": {},
   "outputs": [
    {
     "name": "stdout",
     "output_type": "stream",
     "text": [
      "Top 5 most frequent pin codes:\n",
      "pin\n",
      "641603    109\n",
      "641604     92\n",
      "641602     76\n",
      "641605     69\n",
      "641652     68\n",
      "641607     56\n",
      "641606     38\n",
      "639002     28\n",
      "641608     27\n",
      "641687     26\n",
      "641006     24\n",
      "682002     23\n",
      "641601     22\n",
      "688534     19\n",
      "641666     17\n",
      "682024     17\n",
      "686012     16\n",
      "639001     16\n",
      "688524     15\n",
      "641654     15\n",
      "641014     15\n",
      "678621     13\n",
      "682018     13\n",
      "641062     13\n",
      "682021     13\n",
      "Name: count, dtype: int64\n"
     ]
    }
   ],
   "source": [
    "\n",
    "# Count the occurrences of each unique value in the 'pin' column\n",
    "pin_counts = df['pin'].value_counts()\n",
    "\n",
    "# Get the top 5 most frequently occurring pin codes\n",
    "top_5_modes = pin_counts.head(25)\n",
    "\n",
    "print(\"Top 5 most frequent pin codes:\")\n",
    "print(top_5_modes)\n"
   ]
  },
  {
   "cell_type": "code",
   "execution_count": null,
   "metadata": {},
   "outputs": [],
   "source": [
    "# 682002     23\n",
    "# 688534     19\n",
    "# 682024     17\n",
    "# 686012     16\n",
    "# 688524     15"
   ]
  },
  {
   "cell_type": "code",
   "execution_count": 27,
   "metadata": {},
   "outputs": [
    {
     "data": {
      "text/plain": [
       "13865"
      ]
     },
     "execution_count": 27,
     "metadata": {},
     "output_type": "execute_result"
    }
   ],
   "source": [
    "df.size"
   ]
  },
  {
   "cell_type": "code",
   "execution_count": null,
   "metadata": {},
   "outputs": [],
   "source": []
  },
  {
   "cell_type": "code",
   "execution_count": 30,
   "metadata": {},
   "outputs": [
    {
     "name": "stdout",
     "output_type": "stream",
     "text": [
      "                       Exporter Name  \\\n",
      "0                       5P HORTIPLEX   \n",
      "1                           A.A.NUTS   \n",
      "2      A.K. AHAMED MODERAN RICE MILL   \n",
      "3                    A.K.R. TEXTILES   \n",
      "4                      A.M.FISHERIES   \n",
      "...                              ...   \n",
      "2768  WAYANAD ORGANIC RESEARCH P LTD   \n",
      "2769           WAYANAD SPICE VILLAGE   \n",
      "2770               YUGA DEMETER EXIM   \n",
      "2771                        ZAIN TEX   \n",
      "2772                    ZULI EXPORTS   \n",
      "\n",
      "                                                Address District       State  \\\n",
      "0     19, 2nd St, Balamurugan Nagar, Anna Nagar Exte...      NaN  Tamil Nadu   \n",
      "1     WJMW+7F7, Chandanathope, Mamoodu, Kerala 14, I...      NaN      Kerala   \n",
      "2     P.O, 40/2, Mannarpalayam Main Rd, Allikuttai, ...      NaN  Tamil Nadu   \n",
      "3     48W5+XQ9, Velampalayam, A.Thirumuruganpoondi, ...      NaN  Tamil Nadu   \n",
      "4     98WW+WWQ, Valanjavazhy, Ambalapuzha, Kerala 68...      NaN      Kerala   \n",
      "...                                                 ...      ...         ...   \n",
      "2768                             Wayanad, Kerala, India      NaN      Kerala   \n",
      "2769      Surabhikavala, Pulpally, Kerala 673579, India      NaN      Kerala   \n",
      "2770  4 335 2.p.a.p Canal Feeder Road Munnar, Main R...      NaN  Tamil Nadu   \n",
      "2771  24, Sivanar Street, Sendarapatti, Gugai, Salem...      NaN  Tamil Nadu   \n",
      "2772  near GLPS Nottappuram, C Building, 12- 281, Pu...      NaN      Kerala   \n",
      "\n",
      "         pin  \n",
      "0     600042  \n",
      "1     686012  \n",
      "2     636017  \n",
      "3     641652  \n",
      "4     688005  \n",
      "...      ...  \n",
      "2768  686012  \n",
      "2769  673579  \n",
      "2770  642112  \n",
      "2771  636006  \n",
      "2772  676304  \n",
      "\n",
      "[2773 rows x 5 columns]\n"
     ]
    }
   ],
   "source": [
    "import pandas as pd\n",
    "import random\n",
    "\n",
    "\n",
    "\n",
    "# Define the pin codes and their respective ratios\n",
    "pin_codes = ['682002', '688534', '682024', '686012', '688524']\n",
    "ratios = [23, 19, 17, 16, 15]\n",
    "\n",
    "# Calculate the total number of pin codes to fill\n",
    "total_to_fill = df['pin'].isnull().sum()\n",
    "\n",
    "# Generate random pin codes according to the specified ratios\n",
    "random_pin_codes = random.choices(pin_codes, weights=ratios, k=total_to_fill)\n",
    "\n",
    "# Fill the empty rows in the 'pin' column with the randomly generated pin codes\n",
    "empty_rows = df['pin'].isnull()\n",
    "df.loc[empty_rows, 'pin'] = random_pin_codes\n",
    "\n",
    "# Save the updated DataFrame to a new CSV file\n",
    "df.to_csv(r'C:\\Users\\augus\\OneDrive\\Desktop\\js\\Cargo predict\\Export\\Code\\Clean\\updated_file.csv', index=False)\n",
    "\n",
    "# Display the updated DataFrame\n",
    "print(df)\n"
   ]
  },
  {
   "cell_type": "code",
   "execution_count": 31,
   "metadata": {},
   "outputs": [
    {
     "data": {
      "text/plain": [
       "13865"
      ]
     },
     "execution_count": 31,
     "metadata": {},
     "output_type": "execute_result"
    }
   ],
   "source": [
    "df.size"
   ]
  },
  {
   "cell_type": "code",
   "execution_count": 32,
   "metadata": {},
   "outputs": [
    {
     "name": "stdout",
     "output_type": "stream",
     "text": [
      "Top 5 most frequent pin codes:\n",
      "pin\n",
      "641603    109\n",
      "641604     92\n",
      "641602     76\n",
      "641605     69\n",
      "641652     68\n",
      "641607     56\n",
      "682002     54\n",
      "686012     42\n",
      "688534     41\n",
      "641606     38\n",
      "682024     38\n",
      "688524     30\n",
      "639002     28\n",
      "641608     27\n",
      "641687     26\n",
      "641006     24\n",
      "641601     22\n",
      "641666     17\n",
      "639001     16\n",
      "641654     15\n",
      "641014     15\n",
      "682021     13\n",
      "678621     13\n",
      "641021     13\n",
      "641062     13\n",
      "Name: count, dtype: int64\n"
     ]
    }
   ],
   "source": [
    "\n",
    "# Count the occurrences of each unique value in the 'pin' column\n",
    "pin_counts = df['pin'].value_counts()\n",
    "\n",
    "# Get the top 5 most frequently occurring pin codes\n",
    "top_5_modes = pin_counts.head(25)\n",
    "\n",
    "print(\"Top 5 most frequent pin codes:\")\n",
    "print(top_5_modes)\n"
   ]
  },
  {
   "cell_type": "code",
   "execution_count": null,
   "metadata": {},
   "outputs": [],
   "source": [
    "# 682002     23\n",
    "# 688534     19\n",
    "# 682024     17\n",
    "# 686012     16\n",
    "# 688524     15\n",
    "\n",
    "#------------------------------------\n",
    "\n",
    "# 682002     54\n",
    "# 686012     42\n",
    "# 688534     41\n",
    "# 682024     38\n",
    "# 688524     30"
   ]
  },
  {
   "cell_type": "code",
   "execution_count": 9,
   "metadata": {},
   "outputs": [],
   "source": [
    "import pandas as pd\n",
    "import numpy as nb\n",
    "\n",
    "df = pd.read_csv(r'C:\\Users\\augus\\OneDrive\\Desktop\\js\\Cargo predict\\Export\\Dataset\\pin_file.csv')\n",
    "da = pd.read_csv(r'C:\\Users\\augus\\OneDrive\\Desktop\\js\\Cargo predict\\Export\\Dataset\\all-india-pincode-directory.csv')\n"
   ]
  },
  {
   "cell_type": "code",
   "execution_count": 10,
   "metadata": {},
   "outputs": [],
   "source": [
    "# Delete the 'District' column from the DataFrame\n",
    "df.drop(columns=['District'], inplace=True)"
   ]
  },
  {
   "cell_type": "code",
   "execution_count": 12,
   "metadata": {},
   "outputs": [
    {
     "name": "stdout",
     "output_type": "stream",
     "text": [
      "     Exporter Name                                            Address  \\\n",
      "0     5P HORTIPLEX  19, 2nd St, Balamurugan Nagar, Anna Nagar Exte...   \n",
      "1         A.A.NUTS  WJMW+7F7, Chandanathope, Mamoodu, Kerala 14, I...   \n",
      "2         A.A.NUTS  WJMW+7F7, Chandanathope, Mamoodu, Kerala 14, I...   \n",
      "3         A.A.NUTS  WJMW+7F7, Chandanathope, Mamoodu, Kerala 14, I...   \n",
      "4  A.K.R. TEXTILES  48W5+XQ9, Velampalayam, A.Thirumuruganpoondi, ...   \n",
      "\n",
      "        State     pin             officename  pincode officeType  \\\n",
      "0  Tamil Nadu  600042          Velacheri S.O   600042        S.O   \n",
      "1      Kerala  686012        Moolavattom B.O   686012        B.O   \n",
      "2      Kerala  686012             Pakkil S.O   686012        S.O   \n",
      "3      Kerala  686012  Poovanthuruthu GDSB.O   686012        B.O   \n",
      "4  Tamil Nadu  641652    15 Velampalayam B.O   641652        B.O   \n",
      "\n",
      "  Deliverystatus        divisionname      regionname circlename  \\\n",
      "0       Delivery  Chennai City South  Chennai Region  Tamilnadu   \n",
      "1       Delivery            Kottayam           Kochi     Kerala   \n",
      "2       Delivery            Kottayam           Kochi     Kerala   \n",
      "3       Delivery            Kottayam           Kochi     Kerala   \n",
      "4       Delivery             Tirupur      Coimbatore  Tamilnadu   \n",
      "\n",
      "                      Taluk Districtname   statename     Telephone  \\\n",
      "0  Chennai City Corporation      Chennai  TAMIL NADU  044-22432187   \n",
      "1                  Kottayam     Kottayam      KERALA           NaN   \n",
      "2                  Kottayam     Kottayam      KERALA  0481-2361370   \n",
      "3                  Kottayam     Kottayam      KERALA           NaN   \n",
      "4                  Tiruppur   Coimbatore  TAMIL NADU           NaN   \n",
      "\n",
      "    RelatedSuboffice    RelatedHeadoffice  \n",
      "0                NaN  St.Thomas Mount H.O  \n",
      "1         Pakkil S.O         Kottayam H.O  \n",
      "2                NaN         Kottayam H.O  \n",
      "3         Pakkil S.O         Kottayam H.O  \n",
      "4  Anuppapalayam S.O          Tirupur H.O  \n"
     ]
    }
   ],
   "source": [
    "import pandas as pd\n",
    "\n",
    "# Assuming df and da are your existing DataFrames\n",
    "\n",
    "# Merge the two DataFrames on the specified columns\n",
    "merged_df = pd.merge(df, da, left_on='pin', right_on='pincode', how='inner')\n",
    "\n",
    "# Check the merged DataFrame\n",
    "print(merged_df.head())\n"
   ]
  },
  {
   "cell_type": "code",
   "execution_count": 14,
   "metadata": {},
   "outputs": [],
   "source": [
    "merged_df.to_csv(r'C:\\Users\\augus\\OneDrive\\Desktop\\js\\Cargo predict\\Export\\Dataset\\pin_file.csv', index=False)"
   ]
  },
  {
   "cell_type": "code",
   "execution_count": null,
   "metadata": {},
   "outputs": [],
   "source": []
  },
  {
   "cell_type": "code",
   "execution_count": null,
   "metadata": {},
   "outputs": [],
   "source": []
  },
  {
   "cell_type": "code",
   "execution_count": null,
   "metadata": {},
   "outputs": [],
   "source": []
  },
  {
   "cell_type": "code",
   "execution_count": null,
   "metadata": {},
   "outputs": [],
   "source": []
  },
  {
   "cell_type": "code",
   "execution_count": null,
   "metadata": {},
   "outputs": [],
   "source": []
  }
 ],
 "metadata": {
  "kernelspec": {
   "display_name": "Python 3",
   "language": "python",
   "name": "python3"
  },
  "language_info": {
   "codemirror_mode": {
    "name": "ipython",
    "version": 3
   },
   "file_extension": ".py",
   "mimetype": "text/x-python",
   "name": "python",
   "nbconvert_exporter": "python",
   "pygments_lexer": "ipython3",
   "version": "3.11.5"
  }
 },
 "nbformat": 4,
 "nbformat_minor": 2
}
